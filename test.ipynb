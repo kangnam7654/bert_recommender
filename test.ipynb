{
 "cells": [
  {
   "cell_type": "code",
   "execution_count": 2,
   "metadata": {},
   "outputs": [
    {
     "name": "stderr",
     "output_type": "stream",
     "text": [
      "d:\\conda\\envs\\recommender_39\\lib\\site-packages\\tqdm\\auto.py:22: TqdmWarning: IProgress not found. Please update jupyter and ipywidgets. See https://ipywidgets.readthedocs.io/en/stable/user_install.html\n",
      "  from .autonotebook import tqdm as notebook_tqdm\n"
     ]
    }
   ],
   "source": [
    "import torch\n",
    "\n",
    "from utils.load_bert import load_bert"
   ]
  },
  {
   "cell_type": "code",
   "execution_count": 3,
   "metadata": {},
   "outputs": [
    {
     "name": "stderr",
     "output_type": "stream",
     "text": [
      "Some weights of the model checkpoint at bert-base-uncased were not used when initializing BertModel: ['cls.seq_relationship.weight', 'cls.predictions.transform.dense.bias', 'cls.predictions.transform.LayerNorm.bias', 'cls.predictions.transform.LayerNorm.weight', 'cls.predictions.decoder.weight', 'cls.predictions.bias', 'cls.seq_relationship.bias', 'cls.predictions.transform.dense.weight']\n",
      "- This IS expected if you are initializing BertModel from the checkpoint of a model trained on another task or with another architecture (e.g. initializing a BertForSequenceClassification model from a BertForPreTraining model).\n",
      "- This IS NOT expected if you are initializing BertModel from the checkpoint of a model that you expect to be exactly identical (initializing a BertForSequenceClassification model from a BertForSequenceClassification model).\n"
     ]
    },
    {
     "name": "stdout",
     "output_type": "stream",
     "text": [
      "0.9855279326438904 0.9886266589164734\n"
     ]
    }
   ],
   "source": [
    "model, tokenizer = load_bert()\n",
    "text1 = \"date and month\"\n",
    "text2 = \"monday and sunday\"\n",
    "text3 = \"mars and pluto\"\n",
    "\n",
    "encode_input1 = tokenizer(text1, return_tensors=\"pt\")\n",
    "encode_input2 = tokenizer(text2, return_tensors=\"pt\")\n",
    "encode_input3 = tokenizer(text3, return_tensors=\"pt\")\n",
    "\n",
    "output1 = model(**encode_input1)\n",
    "output2 = model(**encode_input2)\n",
    "output3 = model(**encode_input3)\n",
    "\n",
    "cls1 = output1.pooler_output\n",
    "cls2 = output2.pooler_output\n",
    "cls3 = output3.pooler_output\n",
    "\n",
    "a = torch.cosine_similarity(cls1, cls2, dim=-1)\n",
    "b = torch.cosine_similarity(cls1, cls3, dim=-1)\n",
    "\n",
    "print(a.item(), b.item())"
   ]
  }
 ],
 "metadata": {
  "kernelspec": {
   "display_name": "Python 3.9.12 ('recommender_39')",
   "language": "python",
   "name": "python3"
  },
  "language_info": {
   "codemirror_mode": {
    "name": "ipython",
    "version": 3
   },
   "file_extension": ".py",
   "mimetype": "text/x-python",
   "name": "python",
   "nbconvert_exporter": "python",
   "pygments_lexer": "ipython3",
   "version": "3.9.12"
  },
  "orig_nbformat": 4,
  "vscode": {
   "interpreter": {
    "hash": "2c524ab5bb4d9b017853e2684b58bd6eee2ece5150e5b17abe1d7f802b3f110b"
   }
  }
 },
 "nbformat": 4,
 "nbformat_minor": 2
}
